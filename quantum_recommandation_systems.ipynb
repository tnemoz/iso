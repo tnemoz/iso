{
 "cells": [
  {
   "cell_type": "markdown",
   "metadata": {},
   "source": [
    "## Importing libraries"
   ]
  },
  {
   "cell_type": "code",
   "execution_count": 278,
   "metadata": {},
   "outputs": [],
   "source": [
    "from typing import Dict, List, Union\n",
    "\n",
    "import cirq\n",
    "from IPython.display import display, Math, Latex\n",
    "import numpy    "
   ]
  },
  {
   "cell_type": "markdown",
   "metadata": {},
   "source": [
    "## Creating classical data"
   ]
  },
  {
   "cell_type": "code",
   "execution_count": 368,
   "metadata": {},
   "outputs": [
    {
     "data": {
      "text/latex": [
       "$\\displaystyle \\varepsilon = 0.30$"
      ],
      "text/plain": [
       "<IPython.core.display.Math object>"
      ]
     },
     "metadata": {},
     "output_type": "display_data"
    },
    {
     "data": {
      "text/latex": [
       "$\\displaystyle \\DeclareMathOperator{\\rank}{rk} \\rank\\left(\\hat{P}\\right)=3$"
      ],
      "text/plain": [
       "<IPython.core.display.Math object>"
      ]
     },
     "metadata": {},
     "output_type": "display_data"
    },
    {
     "data": {
      "text/plain": [
       "array([[1, 1, 0, 1, 1],\n",
       "       [0, 1, 0, 1, 1],\n",
       "       [1, 0, 0, 1, 1],\n",
       "       [1, 1, 0, 1, 1],\n",
       "       [1, 1, 1, 0, 0],\n",
       "       [1, 0, 0, 0, 1],\n",
       "       [0, 1, 1, 0, 1],\n",
       "       [1, 1, 1, 0, 0],\n",
       "       [1, 0, 1, 1, 0],\n",
       "       [1, 0, 0, 0, 1]])"
      ]
     },
     "metadata": {},
     "output_type": "display_data"
    }
   ],
   "source": [
    "is_low_rank_assumption_passed = False\n",
    "N_TRIES_LIMIT = 10\n",
    "\n",
    "i = 0\n",
    "while not is_low_rank_assumption_passed and i <= N_TRIES_LIMIT:\n",
    "    i += 1\n",
    "    # Number of users\n",
    "    m = 10\n",
    "    # Number of products\n",
    "    n = 5\n",
    "    # Preference matrix\n",
    "    P = np.random.randint(2, size=(m, n))\n",
    "    \n",
    "    # Rank of approximation\n",
    "    k = 3\n",
    "    \n",
    "    U, S, V = np.linalg.svd(P)\n",
    "    S[k:] = 0\n",
    "    rank = np.sum(S > 0)\n",
    "    is_low_rank_assumption_passed = rank == k\n",
    "    if is_low_rank_assumption_passed:\n",
    "        reconstruct_S = np.zeros((U.shape[0], V.shape[0]))\n",
    "        np.fill_diagonal(reconstruct_S, S)\n",
    "        approximation_matrix = U @ reconstruct_S @ V\n",
    "        epsilon = np.linalg.norm(P - approximation_matrix) / np.linalg.norm(P)\n",
    "\n",
    "if i == N_TRIES_LIMIT + 1:\n",
    "    raise RuntimeError(\"Couldn't find an approximation matrix with the given parameters.\")\n",
    "\n",
    "display(Math('\\\\varepsilon = {:.2f}'.format(epsilon)))\n",
    "display(Math('\\\\DeclareMathOperator{\\\\rank}{rk} \\\\rank\\\\left(\\\\hat{P}\\\\right)=' + str(rank)))\n",
    "display(P)"
   ]
  },
  {
   "cell_type": "markdown",
   "metadata": {},
   "source": [
    "## Creating data structure"
   ]
  },
  {
   "cell_type": "code",
   "execution_count": 363,
   "metadata": {},
   "outputs": [],
   "source": [
    "class _Leaf:\n",
    "    def __init__(self, value: float, positive_sign: bool):\n",
    "        self.value: float = value\n",
    "        self.positive_sign: bool = positive_sign\n",
    "    \n",
    "    def is_leaf(self):\n",
    "        return True\n",
    "\n",
    "class _BinaryTree:\n",
    "    def __init__(self, depth: int, value: float = 0.):\n",
    "        self.value: float = value\n",
    "        self.depth: int = depth\n",
    "        self.left: Union[_BinaryTree, _Leaf] = _Leaf(-1, True)\n",
    "        self.right: Union[_BinaryTree, _Leaf] = _Leaf(-1, True)\n",
    "    \n",
    "    def __getitem__(self, key: int):      \n",
    "        if key - 1 < 0:\n",
    "            raise KeyError(f\"Invalid key: {key} (must be strictly positive).\")\n",
    "            \n",
    "        binary_path: str = bin(key - 1)[2:]\n",
    "        binary_path = '0' * (self.depth - len(binary_path)) + binary_path\n",
    "            \n",
    "        if len(binary_path) != self.depth:\n",
    "            raise KeyError(f\"Invalid key for storage: {position} (too long).\")\n",
    "        \n",
    "        def get_aux(binary_tree: _BinaryTree, binary_path: str):\n",
    "            if len(binary_path) == 0:\n",
    "                raise ValueError(f\"Invalid value encountered for binary_path: nil length.\")\n",
    "            \n",
    "            position: str = binary_path[0]\n",
    "            \n",
    "            if len(binary_path) == 1:\n",
    "                if position == \"0\":\n",
    "                    if binary_tree.left.value == -1:\n",
    "                        raise KeyError()\n",
    "                    return binary_tree.left.value, binary_tree.left.positive_sign\n",
    "                if binary_tree.right.value == -1:\n",
    "                    raise KeyError()\n",
    "                return binary_tree.right.value, binary_tree.right.positive_sign\n",
    "\n",
    "            if position == \"0\":\n",
    "                if isinstance(binary_tree.left, _Leaf):\n",
    "                    raise KeyError()\n",
    "                \n",
    "                return get_aux(binary_tree.left, binary_path[1:])\n",
    "            else:\n",
    "                if isinstance(binary_tree.right, _Leaf):\n",
    "                    raise KeyError()\n",
    "                \n",
    "                return get_aux(binary_tree.right, binary_path[1:])\n",
    "        \n",
    "        try:\n",
    "            return get_aux(self, binary_path)\n",
    "        except KeyError:\n",
    "            raise KeyError(f\"No value stored for key: {key}.\")\n",
    "    \n",
    "    def __str__(self):\n",
    "        return f\"_BinaryTree(depth={self.depth}, value={self.value:.2f})\"\n",
    "        \n",
    "    def is_leaf(self) -> bool:\n",
    "        return False\n",
    "    \n",
    "    def store(self, position: int, value: float, positive_sign: bool) -> None:\n",
    "        def store_aux(binary_tree: BinaryTree, binary_path: str, value: float, positive_sign: bool) -> None:\n",
    "            if len(binary_path) == 0:\n",
    "                raise ValueError(f\"Invalid value encountered for binary_path: nil length.\")\n",
    "            \n",
    "            position: str = binary_path[0]\n",
    "            \n",
    "            if len(binary_path) == 1:\n",
    "                if position == \"0\":\n",
    "                    binary_tree.left = _Leaf(value, positive_sign)\n",
    "                else:\n",
    "                    binary_tree.right = _Leaf(value, positive_sign)\n",
    "            else:\n",
    "                if position == \"0\":\n",
    "                    if isinstance(binary_tree.left, _Leaf):\n",
    "                        binary_tree.left = _BinaryTree(len(binary_path) - 1)\n",
    "\n",
    "                    binary_tree.left.value += value\n",
    "                    store_aux(binary_tree.left, binary_path[1:], value, positive_sign)\n",
    "                else:\n",
    "                    if isinstance(binary_tree.right, _Leaf):\n",
    "                        binary_tree.right = _BinaryTree(len(binary_path) - 1)\n",
    "\n",
    "                    binary_tree.right.value += value\n",
    "                    store_aux(binary_tree.right, binary_path[1:], value, positive_sign)\n",
    "        \n",
    "        if isinstance(position, int):\n",
    "            if position - 1 < 0:\n",
    "                raise ValueError(f\"Invalid position: {position} (must be strictly positive).\")\n",
    "                \n",
    "            binary_path = bin(position - 1)[2:]\n",
    "            binary_path = '0' * (self.depth - len(binary_path)) + binary_path\n",
    "            \n",
    "            if len(binary_path) != self.depth:\n",
    "                raise KeyError(f\"Invalid key for storage: {position} (too long).\")\n",
    "            \n",
    "            store_aux(self, binary_path, value, positive_sign)\n",
    "            self.value = self.left.value + self.right.value\n",
    "        else:\n",
    "            raise TypeError(f\"Incorrect type for position: {type(position)} (int expected).\")\n",
    "            \n",
    "\n",
    "class DataStructure:\n",
    "    def __init__(self, m: int, n: int):\n",
    "        self.m: int = m\n",
    "        self.n: int = n\n",
    "        self.trees_depth = int(.5 + np.log2(n))\n",
    "        self._trees: Dict[int, _BinaryTree] = {}\n",
    "    \n",
    "    def __getitem__(self, key):\n",
    "        if isinstance(key, tuple):\n",
    "            if len(key) != 2:\n",
    "                raise KeyError(f\"An address is made of 2 indexes ({len(tuple)} given).\")\n",
    "            if self._trees.get(key[0]) is None:\n",
    "                self._trees[i] = _BinaryTree(self.trees_depth)\n",
    "                \n",
    "            return self._trees[key[0]][key[1]]\n",
    "        raise KeyError(f\"Not a representable address: {key}.\")\n",
    "    \n",
    "    def __repr__(self):\n",
    "        return f\"DataStructure({[str(self._trees[x]) for x in self._trees]})\"\n",
    "    \n",
    "    def __setitem__(self, key, value):\n",
    "        if isinstance(key, tuple):\n",
    "            if len(key) != 2:\n",
    "                raise KeyError(f\"An address is made of 2 indexes ({len(key)} given).\")\n",
    "            if not (isinstance(value, tuple) or isinstance(value, float)):\n",
    "                raise TypeError(f\"Not an acceptable type to store: {type(value)} (float or tuple expected).\")\n",
    "            if isinstance(value, float):\n",
    "                self._store(key[0], key[1], value ** 2, value >= 0)\n",
    "                return\n",
    "            if len(value) != 2:\n",
    "                raise ValueError(f\"value must be a tuple of length 2 (length {len(value)} given).\")\n",
    "            if not isinstance(value[0], float):\n",
    "                raise ValueError(f\"The first element of value must be a float ({type(value[0])} given).\")\n",
    "            if value[0] < 0 or value[0] > 1:\n",
    "                raise ValueError(f\"The first element of value must be between 0 and 1 ({value[0]} given).\")\n",
    "            if not isinstance(value[1], bool):\n",
    "                raise ValueError(f\"The second element of value must be a boolean ({type(value[1])} given).\")\n",
    "                \n",
    "            self._store(key[0], key[1], value[0], value[1])\n",
    "        else:\n",
    "            raise TypeError(f\"Invalid address given: {key}.\")\n",
    "    \n",
    "    def _store(self, i: int, j: int, value: float, positive_sign: bool) -> None:\n",
    "        if self._trees.get(i) is None:\n",
    "            self._trees[i] = _BinaryTree(self.trees_depth)\n",
    "            \n",
    "        self._trees[i].store(j, value, positive_sign)"
   ]
  },
  {
   "cell_type": "code",
   "execution_count": 369,
   "metadata": {},
   "outputs": [
    {
     "data": {
      "text/plain": [
       "((0.0256, False), (0.64, True))"
      ]
     },
     "execution_count": 369,
     "metadata": {},
     "output_type": "execute_result"
    }
   ],
   "source": [
    "ds = DataStructure(4, 4)\n",
    "ds[2, 3] = (0.64, True)\n",
    "ds[1, 4] = -0.16\n",
    "ds[1, 4], ds[2, 3]"
   ]
  }
 ],
 "metadata": {
  "kernelspec": {
   "display_name": "Python 3",
   "language": "python",
   "name": "python3"
  },
  "language_info": {
   "codemirror_mode": {
    "name": "ipython",
    "version": 3
   },
   "file_extension": ".py",
   "mimetype": "text/x-python",
   "name": "python",
   "nbconvert_exporter": "python",
   "pygments_lexer": "ipython3",
   "version": "3.8.1"
  }
 },
 "nbformat": 4,
 "nbformat_minor": 4
}
